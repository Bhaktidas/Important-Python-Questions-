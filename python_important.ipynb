{
 "cells": [
  {
   "cell_type": "code",
   "execution_count": 1,
   "id": "9e320f9c",
   "metadata": {},
   "outputs": [
    {
     "name": "stdout",
     "output_type": "stream",
     "text": [
      "enter the first age5\n",
      "enter the second age6\n",
      "enter the third age8\n",
      "8\n"
     ]
    }
   ],
   "source": [
    "#User will input (3ages).Find the oldest one\n",
    "a = int(input('enter the first age'))\n",
    "b = int(input('enter the second age'))\n",
    "c =int(input('enter the third age'))\n",
    "\n",
    "max = a \n",
    "if max < b:\n",
    "    max = b\n",
    "if max < c:\n",
    "    max = c\n",
    "print(max)\n"
   ]
  },
  {
   "cell_type": "code",
   "execution_count": 10,
   "id": "3dde4622",
   "metadata": {},
   "outputs": [
    {
     "name": "stdout",
     "output_type": "stream",
     "text": [
      "enter the value in celsius25\n",
      "77.0\n"
     ]
    }
   ],
   "source": [
    "#Write a program that will convert celsius value to fahrenheit\n",
    "\n",
    "user_input= float(input('enter the value in celsius'))\n",
    "\n",
    "temp = user_input\n",
    "\n",
    "farenheit = (user_input * 1.8 )+32\n",
    "print(farenheit)"
   ]
  },
  {
   "cell_type": "code",
   "execution_count": 11,
   "id": "bd15095e",
   "metadata": {},
   "outputs": [
    {
     "name": "stdout",
     "output_type": "stream",
     "text": [
      "enter your number25\n",
      "enter your number26\n",
      "after swaping a: 26\n",
      "after swaping b: 25\n"
     ]
    }
   ],
   "source": [
    "#User will input (2numbers).Write a program to swap the numbers\n",
    "a = int(input('enter your number'))\n",
    "b = int(input('enter your number'))\n",
    "\n",
    "temp = a\n",
    "a = b\n",
    "b = temp\n",
    "\n",
    "print('after swaping a:',a)\n",
    "print('after swaping b:',b)"
   ]
  },
  {
   "cell_type": "code",
   "execution_count": 14,
   "id": "0895a271",
   "metadata": {},
   "outputs": [
    {
     "name": "stdout",
     "output_type": "stream",
     "text": [
      "enter your three digit number153\n",
      "9\n"
     ]
    }
   ],
   "source": [
    "#Write a program that will give you the sum of 3 digits\n",
    "\n",
    "num = int(input('enter your three digit number'))\n",
    "\n",
    "a = num % 10\n",
    "num = num // 10\n",
    "b = num % 10\n",
    "c = num // 10\n",
    "\n",
    "sum = (a + b + c)\n",
    "print(sum)"
   ]
  },
  {
   "cell_type": "code",
   "execution_count": 18,
   "id": "ccda6b00",
   "metadata": {},
   "outputs": [
    {
     "name": "stdout",
     "output_type": "stream",
     "text": [
      "enter your three four digit4563\n",
      "original number- 4563\n",
      "reverse number- 3654\n",
      "false\n"
     ]
    }
   ],
   "source": [
    "#Write a program that will reverse a four digit number.Also it checks whether the reverse is true.\n",
    "\n",
    "user_input = int(input('enter your three four digit'))\n",
    "num = user_input\n",
    "\n",
    "a = num % 10\n",
    "num = num // 10\n",
    "\n",
    "b = num % 10\n",
    "num = num // 10\n",
    "\n",
    "c = num % 10\n",
    "d = num // 10\n",
    "\n",
    "rev = 1000*a + 100*b + 10 *c +d\n",
    "print('original number-',user_input)\n",
    "print('reverse number-',rev)\n",
    "\n",
    "if user_input == rev:\n",
    "    print(\"true\")\n",
    "else:\n",
    "    print('false')\n",
    "\n"
   ]
  },
  {
   "cell_type": "code",
   "execution_count": 26,
   "id": "3e1824c6",
   "metadata": {},
   "outputs": [
    {
     "name": "stdout",
     "output_type": "stream",
     "text": [
      "enter the number56\n",
      "even\n"
     ]
    }
   ],
   "source": [
    "# Write a program that will tell whether the number entered by the user is odd or even\n",
    "x = int(input('enter the number'))\n",
    "\n",
    "if x % 2 == 0:\n",
    "    print('even')\n",
    "else:\n",
    "    print('odd')"
   ]
  },
  {
   "cell_type": "code",
   "execution_count": 27,
   "id": "973408b9",
   "metadata": {},
   "outputs": [
    {
     "name": "stdout",
     "output_type": "stream",
     "text": [
      "enter the year2022\n",
      "not leap year\n"
     ]
    }
   ],
   "source": [
    "#Write a program that will tell whether the given year is a leap year or not.\n",
    "\n",
    "user_input = int(input('enter the year'))\n",
    "\n",
    "if user_input % 4 == 0:\n",
    "    print('leap year')\n",
    "else:\n",
    "    print('not leap year')"
   ]
  },
  {
   "cell_type": "code",
   "execution_count": 28,
   "id": "293d72d8",
   "metadata": {},
   "outputs": [
    {
     "name": "stdout",
     "output_type": "stream",
     "text": [
      "enter the value4\n",
      "enter the value5\n",
      "enter the value5\n",
      "enter the value6\n",
      "1.4142135623730951\n"
     ]
    }
   ],
   "source": [
    "#Write a program to find the euclidean distance between two coordinates.\n",
    "\n",
    "x1 = int(input('enter the value'))\n",
    "y1 = int(input('enter the value'))\n",
    "x2 = int(input('enter the value'))\n",
    "y2 = int(input('enter the value'))\n",
    "\n",
    "distance = ((x2 - x1)**2 + (y2 - y1)**2)**0.5\n",
    "print(distance)"
   ]
  },
  {
   "cell_type": "code",
   "execution_count": 33,
   "id": "524209df",
   "metadata": {},
   "outputs": [
    {
     "name": "stdout",
     "output_type": "stream",
     "text": [
      "enter first angle0\n",
      "enter second angle0\n",
      "enter third angle0\n",
      "not possible\n"
     ]
    }
   ],
   "source": [
    "#Write a program that take a user inputr of three angles and will find out whether it can form a triangle or not.\n",
    "\n",
    "a = int(input('enter first angle'))\n",
    "b = int(input('enter second angle'))\n",
    "c = int(input('enter third angle'))\n",
    "\n",
    "if a + b + c == 180:\n",
    "    print('possible')\n",
    "else:\n",
    "    print('not possible')\n",
    "    "
   ]
  },
  {
   "cell_type": "code",
   "execution_count": 37,
   "id": "f14492f5",
   "metadata": {},
   "outputs": [
    {
     "name": "stdout",
     "output_type": "stream",
     "text": [
      "enter the price560\n",
      "enter the price600\n",
      "profit 40\n"
     ]
    }
   ],
   "source": [
    "#Write a program that will take user input of cost price and selling price and determines whether its a loss or a profit\n",
    " \n",
    "cp = int(input('enter the price'))\n",
    "sp = int(input('enter the price'))\n",
    "\n",
    "if cp > sp:\n",
    "    amount = cp - sp\n",
    "    print('loss',amount)\n",
    "else:\n",
    "    amount = sp - cp\n",
    "    print('profit',amount)"
   ]
  },
  {
   "cell_type": "code",
   "execution_count": 39,
   "id": "ba87abf0",
   "metadata": {},
   "outputs": [
    {
     "name": "stdout",
     "output_type": "stream",
     "text": [
      "enter the amount56\n",
      "enter the amount2\n",
      "enter the amount1\n",
      "your simple interest is: 1.12\n",
      "your amount is: 57.12\n"
     ]
    }
   ],
   "source": [
    "#Write a program to find the simple interest when the value of principle,rate of interest and time period is given.\n",
    "\n",
    "principal_amount = int(input('enter the amount'))\n",
    "interest =  int(input('enter the amount'))\n",
    "time =  int(input('enter the amount'))\n",
    "\n",
    "simple_interest = (principal_amount * interest * time)/100\n",
    "print('your simple interest is:',simple_interest)\n",
    "\n",
    "amount = principal_amount + simple_interest\n",
    "print('your amount is:', amount)\n"
   ]
  },
  {
   "cell_type": "code",
   "execution_count": 41,
   "id": "1bb2073e",
   "metadata": {},
   "outputs": [
    {
     "name": "stdout",
     "output_type": "stream",
     "text": [
      "enter rthe radius45\n",
      "enter the height 50\n",
      "volume is: 317925.0\n",
      "cost is: 12717.0\n"
     ]
    }
   ],
   "source": [
    "#Write a program to find the volume of the cylinder. Also find the cost when ,when the cost of 1litre milk is 40Rs.\n",
    "\n",
    "radius = int(input('enter rthe radius'))\n",
    "height = int(input('enter the height '))\n",
    "\n",
    "volume = 3.14 * (radius**2) * height\n",
    "print(\"volume is:\",volume)\n",
    "\n",
    "cost = volume/1000 *40\n",
    "print('cost is:',cost)"
   ]
  },
  {
   "cell_type": "code",
   "execution_count": 42,
   "id": "d048f4cd",
   "metadata": {},
   "outputs": [
    {
     "name": "stdout",
     "output_type": "stream",
     "text": [
      "enter the number18\n",
      "the number is divisible by 3 & 6\n"
     ]
    }
   ],
   "source": [
    "#Write  a program that will tell whether the given number is divisible by 3 & 6.\n",
    "\n",
    "user_input = int(input('enter the number'))\n",
    "\n",
    "if user_input % 3 == 0 and user_input % 6 == 0:\n",
    "    print('the number is divisible by 3 & 6')\n",
    "else:\n",
    "    print('the number is not divisible by 3 & 6')\n",
    "    "
   ]
  },
  {
   "cell_type": "code",
   "execution_count": 1,
   "id": "6579d9aa",
   "metadata": {},
   "outputs": [
    {
     "name": "stdout",
     "output_type": "stream",
     "text": [
      "enter the temperature60\n",
      "enter the humididty120\n",
      "hot and humid\n"
     ]
    }
   ],
   "source": [
    "#Write a program that will determine weather when the value of temperature and humidity is provided by the user. TEMPERATURE(C) HUMIDITY(%) WEATHER\n",
    "  #>= 30                             >=90                Hot and Humid\n",
    "\n",
    "  #>= 30                             < 90                 Hot\n",
    "\n",
    "  #<30                                >= 90               Cool and Humid\n",
    "\n",
    "  #<30                                 <90                 Cool\n",
    "\n",
    "temp = int(input('enter the temperature'))\n",
    "humid = int(input(\"enter the humididty\"))\n",
    "\n",
    "if temp >= 30 and humid >= 90:\n",
    "    print('hot and humid')\n",
    "elif temp >= 30 and humid < 90:\n",
    "    print('hot')\n",
    "elif temp < 30 and humid >= 30:\n",
    "    print('cool and humid')\n",
    "else:\n",
    "    print('cool')"
   ]
  },
  {
   "cell_type": "code",
   "execution_count": 4,
   "id": "4ee55a38",
   "metadata": {},
   "outputs": [
    {
     "name": "stdout",
     "output_type": "stream",
     "text": [
      "enter the three digit number153\n",
      "the required number is 35\n"
     ]
    }
   ],
   "source": [
    "#Write a program that will take three digits from the user and add the square of each digit.\n",
    "\n",
    "num = int(input('enter the three digit number'))\n",
    " \n",
    "a = num % 10\n",
    "num = num // 10\n",
    "b = num % 10\n",
    "c = num // 10\n",
    "\n",
    "add = (a**2)+(b**2)+(c**2)\n",
    "print('the required number is',add)"
   ]
  },
  {
   "cell_type": "code",
   "execution_count": 11,
   "id": "977a5e49",
   "metadata": {},
   "outputs": [
    {
     "name": "stdout",
     "output_type": "stream",
     "text": [
      "enter the number153\n",
      "armstrong\n"
     ]
    }
   ],
   "source": [
    "#Write a program that will check whether the number is armstrong number or not.\n",
    "\n",
    "user_input = int(input('enter the number'))\n",
    "num = user_input\n",
    "a = num % 10\n",
    "num = num // 10\n",
    "b = num % 10\n",
    "c = num // 10\n",
    "\n",
    "if (a**3)+(b**3)+(c**3) == user_input:\n",
    "    print('armstrong')\n",
    "else:\n",
    "    print('not armstrong')\n"
   ]
  },
  {
   "cell_type": "code",
   "execution_count": 12,
   "id": "a0960d34",
   "metadata": {},
   "outputs": [
    {
     "name": "stdout",
     "output_type": "stream",
     "text": [
      "enter the number: 153\n",
      "Narcissistic number\n"
     ]
    }
   ],
   "source": [
    "#Write a program that will take user input of (4 digits number) and check whether the number is narcissist number or not.\n",
    "\n",
    "user_input = int(input('enter the number: '))\n",
    "num = user_input\n",
    "\n",
    "a = num % 10\n",
    "num = num // 10\n",
    "b = num % 10\n",
    "num = num // 10\n",
    "c = num % 10\n",
    "d = num // 10\n",
    "\n",
    "if (a**3)+(b**3)+(c**3)+(d**4)==user_input:\n",
    "  print('Narcissistic number')\n",
    "else:\n",
    "  print('not Narcissistic number')"
   ]
  },
  {
   "cell_type": "code",
   "execution_count": null,
   "id": "d6c06830",
   "metadata": {},
   "outputs": [],
   "source": [
    "# Write a menu driven program - 1.cm to ft  2.kl to miles  3.usd to inr  4.exit\n",
    "\n",
    "user_input = input(''' \n",
    "Hi! welcome to my page\n",
    "what would you like to do?\n",
    "\n",
    "1. convert cm to inches\n",
    "2. convert km to miles\n",
    "3. convert usd to inr\n",
    "4. exit''')\n",
    "\n",
    "if user_input == '1':\n",
    "  cm = float(input('enter valve in cm'))\n",
    "  inch = cm * 0.394\n",
    "  print(\"yourr value in inch is-\",inch)\n",
    "elif user_input =='2':\n",
    "  km = float(input('enter value in km'))\n",
    "  miles = km * 0.621\n",
    "  print(\"your value in miles is-\",miles)\n",
    "elif user_input =='3':\n",
    "  usd = float(input('enter value in usd'))\n",
    "  inr = usd * 82\n",
    "  print(\"your value in inr is-\", inr)\n",
    "else:\n",
    "  print('exit')"
   ]
  },
  {
   "cell_type": "code",
   "execution_count": 1,
   "id": "53e9addc",
   "metadata": {},
   "outputs": [
    {
     "name": "stdout",
     "output_type": "stream",
     "text": [
      "enter the number45\n",
      "enter the number54\n",
      "after swapping\n",
      "after swapping 54\n",
      "after swaping 45\n"
     ]
    }
   ],
   "source": [
    "#Write a program that will swap numbers\n",
    "\n",
    "a = int(input('enter the number'))\n",
    "b = int(input('enter the number'))\n",
    "\n",
    "a = a + b\n",
    "b = a - b\n",
    "a = a - b\n",
    "\n",
    "print('after swapping')\n",
    "print('after swapping',a)\n",
    "print('after swaping',b)"
   ]
  },
  {
   "cell_type": "code",
   "execution_count": 3,
   "id": "875e8e79",
   "metadata": {},
   "outputs": [
    {
     "name": "stdout",
     "output_type": "stream",
     "text": [
      "enter the number5\n",
      "your sum is 15.0\n"
     ]
    }
   ],
   "source": [
    "#Write a program to find the sum of first n numbers, where n will be provided by the user. Eg if the user provides n=10 the output should be 55.\n",
    "\n",
    "n = int(input('enter the number'))\n",
    "s = n * (n + 1)/2\n",
    "print('your sum is',s)"
   ]
  },
  {
   "cell_type": "code",
   "execution_count": 5,
   "id": "f1dcee9f",
   "metadata": {},
   "outputs": [
    {
     "name": "stdout",
     "output_type": "stream",
     "text": [
      "enter the number5\n",
      "enter the number5\n",
      "your result is 25\n"
     ]
    }
   ],
   "source": [
    "#Write a program that can multiply 2 numbers provided by the user without using the * operator\n",
    "\n",
    "first_number = int(input('enter the number'))\n",
    "second_number = int(input('enter the number'))\n",
    "sum = 0\n",
    "\n",
    "for i in range (0,first_number):\n",
    "    sum = sum + second_number\n",
    "print('your result is',sum)"
   ]
  },
  {
   "cell_type": "code",
   "execution_count": 4,
   "id": "d8df40a3",
   "metadata": {},
   "outputs": [
    {
     "name": "stdout",
     "output_type": "stream",
     "text": [
      "enter your number5\n",
      "factorial of the given number is: 120\n"
     ]
    }
   ],
   "source": [
    "#Write a program that can find the factorial of a given number provided by the user.\n",
    "\n",
    "num = int(input('enter your number'))\n",
    "i = 1\n",
    "\n",
    "if num > 0:\n",
    "    while num >= 1:\n",
    "        i = i * num\n",
    "        num = num - 1\n",
    "    print('factorial of the given number is:',i)\n",
    "else:\n",
    "    print('factorial is not possible')\n"
   ]
  },
  {
   "cell_type": "code",
   "execution_count": 3,
   "id": "6a884d56",
   "metadata": {},
   "outputs": [
    {
     "name": "stdout",
     "output_type": "stream",
     "text": [
      "1\n",
      "3\n",
      "5\n",
      "7\n",
      "9\n",
      "11\n",
      "13\n",
      "15\n",
      "17\n",
      "19\n",
      "21\n",
      "23\n",
      "25\n",
      "27\n",
      "29\n",
      "31\n",
      "33\n",
      "35\n",
      "37\n",
      "39\n",
      "41\n",
      "43\n",
      "45\n",
      "47\n",
      "49\n"
     ]
    }
   ],
   "source": [
    "#Write a program to print the first 25 odd numbers\n",
    "\n",
    "flag = 0\n",
    "i = 1\n",
    "\n",
    "while True:\n",
    "    if i % 2 != 0:\n",
    "        print(i)\n",
    "        flag = flag + 1\n",
    "    if flag == 25:\n",
    "        break\n",
    "    i = i + 1"
   ]
  },
  {
   "cell_type": "code",
   "execution_count": null,
   "id": "e060c989",
   "metadata": {},
   "outputs": [],
   "source": []
  }
 ],
 "metadata": {
  "kernelspec": {
   "display_name": "Python 3 (ipykernel)",
   "language": "python",
   "name": "python3"
  },
  "language_info": {
   "codemirror_mode": {
    "name": "ipython",
    "version": 3
   },
   "file_extension": ".py",
   "mimetype": "text/x-python",
   "name": "python",
   "nbconvert_exporter": "python",
   "pygments_lexer": "ipython3",
   "version": "3.9.12"
  }
 },
 "nbformat": 4,
 "nbformat_minor": 5
}
